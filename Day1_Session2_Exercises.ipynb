{
  "nbformat": 4,
  "nbformat_minor": 0,
  "metadata": {
    "colab": {
      "name": "Day1 Session2 Exercises.ipynb",
      "provenance": [],
      "collapsed_sections": [],
      "authorship_tag": "ABX9TyPNGHGApiZZqZSrXGfqW5V/",
      "include_colab_link": true
    },
    "kernelspec": {
      "name": "python3",
      "display_name": "Python 3"
    }
  },
  "cells": [
    {
      "cell_type": "markdown",
      "metadata": {
        "id": "view-in-github",
        "colab_type": "text"
      },
      "source": [
        "<a href=\"https://colab.research.google.com/github/PreethiNayak/Applications-of-Python-Programming-in-DA-ML-/blob/master/Day1_Session2_Exercises.ipynb\" target=\"_parent\"><img src=\"https://colab.research.google.com/assets/colab-badge.svg\" alt=\"Open In Colab\"/></a>"
      ]
    },
    {
      "cell_type": "markdown",
      "metadata": {
        "id": "eeCERq3xbTFu",
        "colab_type": "text"
      },
      "source": [
        "#1 Write a program to print the triangle "
      ]
    },
    {
      "cell_type": "code",
      "metadata": {
        "id": "tzHrYTy_bRdK",
        "colab_type": "code",
        "colab": {
          "base_uri": "https://localhost:8080/",
          "height": 119
        },
        "outputId": "19ce510f-8f71-4ed7-ae67-83a83c050ced"
      },
      "source": [
        "n=int(input(\"Enter number:\"));\n",
        "for i in range(n+1):\n",
        "    c=i\n",
        "    for j in range(1,i+1):\n",
        "        print(c, end=\" \")\n",
        "        c=c+1\n",
        "    print('')"
      ],
      "execution_count": 1,
      "outputs": [
        {
          "output_type": "stream",
          "text": [
            "Enter number:4\n",
            "\n",
            "1 \n",
            "2 3 \n",
            "3 4 5 \n",
            "4 5 6 7 \n"
          ],
          "name": "stdout"
        }
      ]
    },
    {
      "cell_type": "markdown",
      "metadata": {
        "id": "8iw03Ul0cCm-",
        "colab_type": "text"
      },
      "source": [
        "#2 Enter number 4"
      ]
    },
    {
      "cell_type": "code",
      "metadata": {
        "id": "HEZjRhQGbv4H",
        "colab_type": "code",
        "colab": {
          "base_uri": "https://localhost:8080/",
          "height": 85
        },
        "outputId": "d5e47522-0382-4698-c106-ea539e1ad454"
      },
      "source": [
        "rows = 4\n",
        "for i in range(0, rows):\n",
        "    for j in range(0, i + 1):\n",
        "        print(\"*\", end=' ')\n",
        "\n",
        "    print(\"\\r\")"
      ],
      "execution_count": 2,
      "outputs": [
        {
          "output_type": "stream",
          "text": [
            "* \r\n",
            "* * \r\n",
            "* * * \r\n",
            "* * * * \r\n"
          ],
          "name": "stdout"
        }
      ]
    },
    {
      "cell_type": "markdown",
      "metadata": {
        "id": "3xPvyNn6cQMe",
        "colab_type": "text"
      },
      "source": [
        "#3 Enter number 5"
      ]
    },
    {
      "cell_type": "code",
      "metadata": {
        "id": "UBZaZI_JcLFC",
        "colab_type": "code",
        "colab": {
          "base_uri": "https://localhost:8080/",
          "height": 136
        },
        "outputId": "b1479f28-d4ea-4c3f-8cf1-3af9622d0d32"
      },
      "source": [
        "n=int(input(\"Enter number:\"));\n",
        "for i in range(n+1):\n",
        "    c=n-i+1\n",
        "    for j in range(n,n-i,-1):\n",
        "        print(c, end=\" \")\n",
        "        c=c+1\n",
        "    print('')"
      ],
      "execution_count": 4,
      "outputs": [
        {
          "output_type": "stream",
          "text": [
            "Enter number:5\n",
            "\n",
            "5 \n",
            "4 5 \n",
            "3 4 5 \n",
            "2 3 4 5 \n",
            "1 2 3 4 5 \n"
          ],
          "name": "stdout"
        }
      ]
    },
    {
      "cell_type": "markdown",
      "metadata": {
        "id": "i0OgYw_UcrJf",
        "colab_type": "text"
      },
      "source": [
        "#4  Enter number 5"
      ]
    },
    {
      "cell_type": "code",
      "metadata": {
        "id": "ckqd902QceZZ",
        "colab_type": "code",
        "colab": {
          "base_uri": "https://localhost:8080/",
          "height": 119
        },
        "outputId": "47eec701-587d-4c45-d655-13df2a820a40"
      },
      "source": [
        "rows = 5\n",
        "for i in range(0, rows + 1):\n",
        "    for j in range(rows - i, 0, -1):\n",
        "        print(j, end=' ')\n",
        "    print()"
      ],
      "execution_count": 5,
      "outputs": [
        {
          "output_type": "stream",
          "text": [
            "5 4 3 2 1 \n",
            "4 3 2 1 \n",
            "3 2 1 \n",
            "2 1 \n",
            "1 \n",
            "\n"
          ],
          "name": "stdout"
        }
      ]
    },
    {
      "cell_type": "markdown",
      "metadata": {
        "id": "D44ROVyQc7Dy",
        "colab_type": "text"
      },
      "source": [
        "#5 Enter number 4\n"
      ]
    },
    {
      "cell_type": "code",
      "metadata": {
        "id": "b5ryCRw7c33x",
        "colab_type": "code",
        "colab": {
          "base_uri": "https://localhost:8080/",
          "height": 153
        },
        "outputId": "9dc0a544-138d-4f52-8dec-090f10bcb3c6"
      },
      "source": [
        "\n",
        "n=int(input(\"Enter number:\"));\n",
        "for i in range(n):\n",
        "    for j in range(i+1,n+1,1):\n",
        "        print(j, end=\" \")\n",
        "    print('')\n",
        "for i in range(2,n+1):\n",
        "    c=n-i+1\n",
        "    for j in range(n,n-i,-1):\n",
        "        print(c, end=\" \")\n",
        "        c=c+1\n",
        "    print('')"
      ],
      "execution_count": 6,
      "outputs": [
        {
          "output_type": "stream",
          "text": [
            "Enter number:4\n",
            "1 2 3 4 \n",
            "2 3 4 \n",
            "3 4 \n",
            "4 \n",
            "3 4 \n",
            "2 3 4 \n",
            "1 2 3 4 \n"
          ],
          "name": "stdout"
        }
      ]
    },
    {
      "cell_type": "markdown",
      "metadata": {
        "id": "2LKXnEV5dTCD",
        "colab_type": "text"
      },
      "source": [
        "#6 Find the length of a string without using len functions"
      ]
    },
    {
      "cell_type": "code",
      "metadata": {
        "id": "76yjVIM_dPWc",
        "colab_type": "code",
        "colab": {
          "base_uri": "https://localhost:8080/",
          "height": 51
        },
        "outputId": "87ba6889-2a90-4678-9038-02888e6e2e4b"
      },
      "source": [
        "str = input(\"Enter a string: \")\n",
        "counter = 0\n",
        "for s in str:\n",
        "      counter = counter+1\n",
        "print(\"Length of the input string is:\", counter)"
      ],
      "execution_count": 7,
      "outputs": [
        {
          "output_type": "stream",
          "text": [
            "Enter a string: Preethi\n",
            "Length of the input string is: 7\n"
          ],
          "name": "stdout"
        }
      ]
    },
    {
      "cell_type": "markdown",
      "metadata": {
        "id": "M8ZZSll1dpdg",
        "colab_type": "text"
      },
      "source": [
        "#7 Find the no of words and characters in a string"
      ]
    },
    {
      "cell_type": "code",
      "metadata": {
        "id": "Tuf1KE9vdlhg",
        "colab_type": "code",
        "colab": {
          "base_uri": "https://localhost:8080/",
          "height": 102
        },
        "outputId": "4c1cb99e-75bb-4bb8-c5ce-4e07f3be4f5e"
      },
      "source": [
        "string=input(\"Enter string:\")\n",
        "char=0\n",
        "word=1\n",
        "for i in string:\n",
        "      char=char+1\n",
        "      if(i==' '):\n",
        "            word=word+1\n",
        "print(\"Number of words in the string:\")\n",
        "print(word)\n",
        "print(\"Number of characters in the string:\")\n",
        "print(char)"
      ],
      "execution_count": 8,
      "outputs": [
        {
          "output_type": "stream",
          "text": [
            "Enter string:Preethi Nayak\n",
            "Number of words in the string:\n",
            "2\n",
            "Number of characters in the string:\n",
            "13\n"
          ],
          "name": "stdout"
        }
      ]
    },
    {
      "cell_type": "markdown",
      "metadata": {
        "id": "Bs4wkS09d11o",
        "colab_type": "text"
      },
      "source": [
        "#8 Find the no of occurrences of a word in a string"
      ]
    },
    {
      "cell_type": "code",
      "metadata": {
        "id": "j55HPr7jdwvU",
        "colab_type": "code",
        "colab": {
          "base_uri": "https://localhost:8080/",
          "height": 34
        },
        "outputId": "3db70ce5-5b28-4556-8e93-d92856f52c06"
      },
      "source": [
        "string = \"My College name is Alva's Institute of Engineering and technology\"\n",
        "substring = \"is\"\n",
        "\n",
        "count = string.count(substring)\n",
        "\n",
        "# print count\n",
        "print(\"The count is:\", count)"
      ],
      "execution_count": 11,
      "outputs": [
        {
          "output_type": "stream",
          "text": [
            "The count is: 1\n"
          ],
          "name": "stdout"
        }
      ]
    }
  ]
}